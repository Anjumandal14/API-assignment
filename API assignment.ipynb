{
 "cells": [
  {
   "cell_type": "markdown",
   "id": "701a0a65-3171-4c8b-805a-8df9572ddd2e",
   "metadata": {},
   "source": [
    "1. An application programming interface is a way for two or more computer programs to communicate with each other. It is a type of software interface, offering a service to other pieces of software. \n",
    "\n",
    "In real life API is used as Netflix, GooglePay, GoogleMaps, sharing flight information between airlines and travel sites."
   ]
  },
  {
   "cell_type": "markdown",
   "id": "a107e2c4-0581-478a-9006-36fd151894a7",
   "metadata": {},
   "source": [
    "2. Advantages of API :-\n",
    "\n",
    "- Increased Interoperability: API solutions enable different software systems to communicate with each other, regardless of their programming language or platform.\n",
    "- Improved Efficiency: API driven infrastructures enable developers to reuse code and functionality from existing software systems, saving time and reducing the amount of code that needs to be written from scratch.\n",
    "- Better User Experience: APIs can enable third-party developers to create applications that integrate with existing software systems, providing a better user experience and increased functionality.\n",
    "- Increased Flexibility: APIs provide developers with greater flexibility, enabling them to choose the best programming languages and frameworks for their needs.\n",
    "- New Revenue Streams: APIs can enable companies to create new revenue streams by providing third-party developers with access to their software systems.\n",
    "\n",
    "\n",
    "  Disadvantages of API :-\n",
    "    \n",
    "- Security Concerns: API infrastructures can be vulnerable to security breaches, such as SQL injection attacks and cross-site scripting (XSS) attacks, making it crucial to implement security measures to protect against these threats.\n",
    "- Complexity: APIs can be complex, requiring a significant amount of development effort to implement and maintain.\n",
    "- Compatibility Issues: APIs can have compatibility issues between different versions of the same software system or between different systems, which can lead to errors and system failures.\n",
    "- Dependency on Third-Party Developers: APIs rely on third-party developers to create applications that integrate with the software system. This can create dependencies that are outside of the control of the company that owns the software system.\n",
    "- Governance and Management: APIs require proper governance and management to ensure they are being used correctly and consistently across different applications and systems.\n"
   ]
  },
  {
   "cell_type": "markdown",
   "id": "9f9c59cc-e901-40a6-8975-8f1c3d061e41",
   "metadata": {},
   "source": [
    "3. Web API : A web API is an application programming interface for either a web server or a web browser. As a web development concept, it can be related to a web application's client side.\n",
    "\n",
    "Difference between API and Web API is-\n",
    "API can be created with the help of TCP, SMTP, HTTP protocols and web API can be created  with the help of only HTTP"
   ]
  },
  {
   "cell_type": "markdown",
   "id": "df278f0b-5f98-441e-9039-6f55b08aa9c2",
   "metadata": {},
   "source": [
    "4. REST and SOAP Architechture\n",
    "\n",
    "REST stands for REpresentational State Transfer, is an architectural style for providing standards between computer systems on the web, making it easier for systems to communicate with each other.\n",
    "\n",
    "SOAP (Simple Object Access Protocol) is a message protocol that enables the distributed elements of an application to communicate. SOAP can be carried over a variety of standard protocols, including the web-related Hypertext Transfer Protocol (HTTP).\n",
    "\n",
    "\n",
    "Shortcomings of SOAP:-\n",
    "\n",
    "As SOAP can only transfer messages as XML files, your SOAP API will be less performant, as XML is a verbose format compared to JSON.\n"
   ]
  },
  {
   "cell_type": "markdown",
   "id": "0c69a868-b169-41a9-8fbe-3396804896ff",
   "metadata": {},
   "source": [
    "5. Differentiate between REST and SOAP.\n",
    "\n",
    "REST :\n",
    "- REST is more flexible and allows applications to exchange data in multiple formats.\n",
    "- The skill level of REST is high.\n",
    "- REST APIs rely on underlying transport protocol usually HTTPS. This means they can perform better than SOAP APIs, but this     can cause challenges with bachground compatibility or security.\n",
    "- Doesn't require a strict structure and usually includes an HTTP method, an endpoint, header and a body.\n",
    "- Offers several security measures such as SSL, OAuth and HTTP basic authentication.\n",
    "- REST is used in mostly web application.\n",
    "\n",
    "SOAP :\n",
    "- The SOAP approach is highly structured and uses XML data format.\n",
    "- The skill level is low to medium.\n",
    "- SOAP APIs are independent and can work with any transport protocol. This makes them versatile but more complex and slow.\n",
    "- Requires a standardized structure, including headers and a message body.\n",
    "- Provies standard-based security measures.\n",
    "- SOAP is used in web and non-web application."
   ]
  },
  {
   "cell_type": "code",
   "execution_count": null,
   "id": "0719eca5-fa98-4242-b74b-c3958e5a43aa",
   "metadata": {},
   "outputs": [],
   "source": []
  },
  {
   "cell_type": "code",
   "execution_count": null,
   "id": "63e1f25b-e4cb-4e04-b396-a93762f1685e",
   "metadata": {},
   "outputs": [],
   "source": []
  }
 ],
 "metadata": {
  "kernelspec": {
   "display_name": "Python 3 (ipykernel)",
   "language": "python",
   "name": "python3"
  },
  "language_info": {
   "codemirror_mode": {
    "name": "ipython",
    "version": 3
   },
   "file_extension": ".py",
   "mimetype": "text/x-python",
   "name": "python",
   "nbconvert_exporter": "python",
   "pygments_lexer": "ipython3",
   "version": "3.10.8"
  }
 },
 "nbformat": 4,
 "nbformat_minor": 5
}
